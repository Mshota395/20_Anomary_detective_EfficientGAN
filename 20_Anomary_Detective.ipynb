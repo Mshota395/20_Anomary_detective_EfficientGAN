{
  "cells": [
    {
      "cell_type": "markdown",
      "metadata": {
        "colab_type": "text",
        "id": "view-in-github"
      },
      "source": [
        "<a href=\"https://colab.research.google.com/github/Mshota395/20_Anomary_detective_EfficientGAN/blob/main/20_Anomary_Detective.ipynb\" target=\"_parent\"><img src=\"https://colab.research.google.com/assets/colab-badge.svg\" alt=\"Open In Colab\"/></a>"
      ]
    },
    {
      "cell_type": "code",
      "execution_count": 2,
      "metadata": {
        "colab": {
          "base_uri": "https://localhost:8080/"
        },
        "id": "j83pzr2--zvZ",
        "outputId": "29c8e6a1-34ce-42b9-8b4d-9e976f21daa1"
      },
      "outputs": [
        {
          "name": "stdout",
          "output_type": "stream",
          "text": [
            "NVIDIA-SMI has failed because it couldn't communicate with the NVIDIA driver. Make sure that the latest NVIDIA driver is installed and running.\n",
            "\n"
          ]
        }
      ],
      "source": [
        "!nvidia-smi\n"
      ]
    },
    {
      "cell_type": "code",
      "execution_count": 1,
      "metadata": {
        "colab": {
          "base_uri": "https://localhost:8080/"
        },
        "id": "zXMDL8_tGbGM",
        "outputId": "7dd53d12-3ab6-43fc-ea44-1525f05230a2"
      },
      "outputs": [
        {
          "name": "stdout",
          "output_type": "stream",
          "text": [
            "zsh:1: command not found: wget\n",
            "unzip:  cannot find or open ./data/rp73yg93n8-1.zip, ./data/rp73yg93n8-1.zip.zip or ./data/rp73yg93n8-1.zip.ZIP.\n",
            "unzip:  cannot find or open ./data/fruits-360_dataset.zip, ./data/fruits-360_dataset.zip.zip or ./data/fruits-360_dataset.zip.ZIP.\n"
          ]
        }
      ],
      "source": [
        "# Fruits-360 dataset をダウンロードし、解凍する\n",
        "\n",
        "!wget https://md-datasets-cache-zipfiles-prod.s3.eu-west-1.amazonaws.com/rp73yg93n8-1.zip -nc -P ./data/\n",
        "!unzip -n ./data/rp73yg93n8-1.zip -d ./data/\n",
        "!unzip -n -q ./data/fruits-360_dataset.zip -d ./data/ "
      ]
    },
    {
      "cell_type": "markdown",
      "metadata": {
        "id": "VySg80O8HJsG"
      },
      "source": [
        "傷を付与"
      ]
    },
    {
      "cell_type": "code",
      "execution_count": 5,
      "metadata": {
        "id": "zNMpv5xqHGhY"
      },
      "outputs": [],
      "source": [
        "import os\n",
        "import cv2\n",
        "import random\n",
        "\n",
        "def add_damage(image_path):\n",
        "  folder = os.path.dirname(image_path)\n",
        "  save_folder = folder + \"_damaged\"\n",
        "  save_base_path = os.path.basename(image_path).replace(\".jpg\", \"_damaged.jpg\")\n",
        "  save_path = os.path.join(save_folder, save_base_path)\n",
        "\n",
        "  os.makedirs(save_folder, exist_ok=True)\n",
        "\n",
        "  image = cv2.imread(image_path)\n",
        "  center_x = random.randint(20, 76)\n",
        "  center_y = random.randint(20, 76)\n",
        "  color_r = random.randint(0, 255)\n",
        "  color_g = random.randint(0, 255)\n",
        "  color_b = random.randint(0, 255)\n",
        "  \n",
        "  \n",
        "  center = (center_x, center_y)\n",
        "  color = (color_r, color_g, color_b)\n",
        "\n",
        "  cv2.circle(image, center = center, radius = 10, color = color, thickness = -1)\n",
        "  cv2.imwrite(save_path, image)"
      ]
    },
    {
      "cell_type": "code",
      "execution_count": null,
      "metadata": {},
      "outputs": [],
      "source": [
        "images_path = glob(\"./data/fruits-360/Training/Grape White/*.jpg\")\n",
        "[add_damage(image_path) for image_path in images_path]"
      ]
    }
  ],
  "metadata": {
    "colab": {
      "authorship_tag": "ABX9TyMpkSMFn4c7s5ZRT3n1IT/N",
      "collapsed_sections": [],
      "include_colab_link": true,
      "name": "20_Anomary_Detective.ipynb",
      "provenance": []
    },
    "kernelspec": {
      "display_name": "Python 3",
      "name": "python3"
    },
    "language_info": {
      "codemirror_mode": {
        "name": "ipython",
        "version": 3
      },
      "file_extension": ".py",
      "mimetype": "text/x-python",
      "name": "python",
      "nbconvert_exporter": "python",
      "pygments_lexer": "ipython3",
      "version": "3.10.0"
    }
  },
  "nbformat": 4,
  "nbformat_minor": 0
}
