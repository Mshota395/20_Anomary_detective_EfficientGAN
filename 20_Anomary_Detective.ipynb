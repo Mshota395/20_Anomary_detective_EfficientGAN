{
  "nbformat": 4,
  "nbformat_minor": 0,
  "metadata": {
    "colab": {
      "name": "20_Anomary_Detective.ipynb",
      "provenance": [],
      "collapsed_sections": [],
      "authorship_tag": "ABX9TyMpkSMFn4c7s5ZRT3n1IT/N",
      "include_colab_link": true
    },
    "kernelspec": {
      "name": "python3",
      "display_name": "Python 3"
    },
    "language_info": {
      "name": "python"
    }
  },
  "cells": [
    {
      "cell_type": "markdown",
      "metadata": {
        "id": "view-in-github",
        "colab_type": "text"
      },
      "source": [
        "<a href=\"https://colab.research.google.com/github/Mshota395/20_Anomary_detective_EfficientGAN/blob/main/20_Anomary_Detective.ipynb\" target=\"_parent\"><img src=\"https://colab.research.google.com/assets/colab-badge.svg\" alt=\"Open In Colab\"/></a>"
      ]
    },
    {
      "cell_type": "code",
      "execution_count": 2,
      "metadata": {
        "id": "j83pzr2--zvZ",
        "colab": {
          "base_uri": "https://localhost:8080/"
        },
        "outputId": "29c8e6a1-34ce-42b9-8b4d-9e976f21daa1"
      },
      "outputs": [
        {
          "output_type": "stream",
          "name": "stdout",
          "text": [
            "NVIDIA-SMI has failed because it couldn't communicate with the NVIDIA driver. Make sure that the latest NVIDIA driver is installed and running.\n",
            "\n"
          ]
        }
      ],
      "source": [
        "!nvidia-smi\n"
      ]
    },
    {
      "cell_type": "code",
      "source": [
        "# Fruits-360 dataset をダウンロードし、解凍する\n",
        "\n",
        "!wget https://md-datasets-cache-zipfiles-prod.s3.eu-west-1.amazonaws.com/rp73yg93n8-1.zip -nc -P ./data/\n",
        "!unzip -n ./data/rp73yg93n8-1.zip -d ./data/\n",
        "!unzip -n -q ./data/fruits-360_dataset.zip -d ./data/ "
      ],
      "metadata": {
        "colab": {
          "base_uri": "https://localhost:8080/"
        },
        "id": "zXMDL8_tGbGM",
        "outputId": "7dd53d12-3ab6-43fc-ea44-1525f05230a2"
      },
      "execution_count": 3,
      "outputs": [
        {
          "output_type": "stream",
          "name": "stdout",
          "text": [
            "--2022-04-05 05:04:07--  https://md-datasets-cache-zipfiles-prod.s3.eu-west-1.amazonaws.com/rp73yg93n8-1.zip\n",
            "Resolving md-datasets-cache-zipfiles-prod.s3.eu-west-1.amazonaws.com (md-datasets-cache-zipfiles-prod.s3.eu-west-1.amazonaws.com)... 52.218.44.186\n",
            "Connecting to md-datasets-cache-zipfiles-prod.s3.eu-west-1.amazonaws.com (md-datasets-cache-zipfiles-prod.s3.eu-west-1.amazonaws.com)|52.218.44.186|:443... connected.\n",
            "HTTP request sent, awaiting response... 200 OK\n",
            "Length: 418811602 (399M) [application/octet-stream]\n",
            "Saving to: ‘./data/rp73yg93n8-1.zip’\n",
            "\n",
            "rp73yg93n8-1.zip    100%[===================>] 399.41M  20.6MB/s    in 20s     \n",
            "\n",
            "2022-04-05 05:04:28 (19.8 MB/s) - ‘./data/rp73yg93n8-1.zip’ saved [418811602/418811602]\n",
            "\n",
            "Archive:  ./data/rp73yg93n8-1.zip\n",
            "  inflating: ./data/fruits-360_dataset.zip  \n"
          ]
        }
      ]
    },
    {
      "cell_type": "markdown",
      "source": [
        "傷を付与"
      ],
      "metadata": {
        "id": "VySg80O8HJsG"
      }
    },
    {
      "cell_type": "code",
      "source": [
        "import os\n",
        "import cv2\n",
        "import random\n",
        "\n",
        "def add_damage(image_path):\n",
        "  folder = os.path.dirname(image_path)\n",
        "  save_folder = folder + "
      ],
      "metadata": {
        "id": "zNMpv5xqHGhY"
      },
      "execution_count": null,
      "outputs": []
    }
  ]
}